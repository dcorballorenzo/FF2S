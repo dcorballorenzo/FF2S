{
 "cells": [
  {
   "cell_type": "code",
   "execution_count": 1,
   "id": "1ea1606f",
   "metadata": {},
   "outputs": [
    {
     "name": "stdout",
     "output_type": "stream",
     "text": [
      "Requirement already satisfied: opencv-python in /Users/kathleendewandre/.pyenv/versions/3.10.6/envs/FF2S/lib/python3.10/site-packages (4.6.0.66)\n",
      "Requirement already satisfied: numpy>=1.14.5 in /Users/kathleendewandre/.pyenv/versions/3.10.6/envs/FF2S/lib/python3.10/site-packages (from opencv-python) (1.23.5)\n"
     ]
    }
   ],
   "source": [
    "!pip install opencv-python"
   ]
  },
  {
   "cell_type": "code",
   "execution_count": 2,
   "id": "0998781d",
   "metadata": {},
   "outputs": [],
   "source": [
    "import cv2"
   ]
  },
  {
   "cell_type": "code",
   "execution_count": 18,
   "id": "57701623",
   "metadata": {},
   "outputs": [],
   "source": [
    "img1 = cv2.imread('/Users/kathleendewandre/code/dcorballorenzo/FF2S/raw_data/photo/photo1/image1317.jpg')"
   ]
  },
  {
   "cell_type": "code",
   "execution_count": 19,
   "id": "05bd7e1f",
   "metadata": {
    "scrolled": true
   },
   "outputs": [
    {
     "data": {
      "text/plain": [
       "array([[[ 71,  92,  83],\n",
       "        [ 69,  90,  81],\n",
       "        [ 65,  86,  77],\n",
       "        ...,\n",
       "        [159, 181, 146],\n",
       "        [166, 186, 151],\n",
       "        [166, 186, 151]],\n",
       "\n",
       "       [[ 72,  93,  84],\n",
       "        [ 69,  90,  81],\n",
       "        [ 66,  87,  78],\n",
       "        ...,\n",
       "        [159, 181, 146],\n",
       "        [161, 183, 148],\n",
       "        [163, 183, 148]],\n",
       "\n",
       "       [[ 72,  93,  84],\n",
       "        [ 70,  91,  82],\n",
       "        [ 66,  87,  78],\n",
       "        ...,\n",
       "        [154, 178, 143],\n",
       "        [158, 180, 145],\n",
       "        [158, 180, 145]],\n",
       "\n",
       "       ...,\n",
       "\n",
       "       [[132,  83, 235],\n",
       "        [127,  78, 230],\n",
       "        [119,  72, 224],\n",
       "        ...,\n",
       "        [ 63,  87,  99],\n",
       "        [ 55,  81,  93],\n",
       "        [ 58,  84,  96]],\n",
       "\n",
       "       [[127,  80, 233],\n",
       "        [126,  79, 231],\n",
       "        [126,  79, 231],\n",
       "        ...,\n",
       "        [ 60,  84,  96],\n",
       "        [ 59,  85,  97],\n",
       "        [ 59,  85,  97]],\n",
       "\n",
       "       [[127,  80, 233],\n",
       "        [126,  79, 232],\n",
       "        [126,  79, 231],\n",
       "        ...,\n",
       "        [ 58,  82,  94],\n",
       "        [ 50,  76,  88],\n",
       "        [ 50,  76,  88]]], dtype=uint8)"
      ]
     },
     "execution_count": 19,
     "metadata": {},
     "output_type": "execute_result"
    }
   ],
   "source": [
    "img1"
   ]
  },
  {
   "cell_type": "code",
   "execution_count": null,
   "id": "0e7bd09a",
   "metadata": {},
   "outputs": [],
   "source": []
  }
 ],
 "metadata": {
  "kernelspec": {
   "display_name": "Python 3 (ipykernel)",
   "language": "python",
   "name": "python3"
  },
  "language_info": {
   "codemirror_mode": {
    "name": "ipython",
    "version": 3
   },
   "file_extension": ".py",
   "mimetype": "text/x-python",
   "name": "python",
   "nbconvert_exporter": "python",
   "pygments_lexer": "ipython3",
   "version": "3.10.6"
  },
  "toc": {
   "base_numbering": 1,
   "nav_menu": {},
   "number_sections": true,
   "sideBar": true,
   "skip_h1_title": false,
   "title_cell": "Table of Contents",
   "title_sidebar": "Contents",
   "toc_cell": false,
   "toc_position": {},
   "toc_section_display": true,
   "toc_window_display": false
  }
 },
 "nbformat": 4,
 "nbformat_minor": 5
}
