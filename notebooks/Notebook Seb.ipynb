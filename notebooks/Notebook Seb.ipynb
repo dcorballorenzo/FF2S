{
 "cells": [
  {
   "cell_type": "code",
   "execution_count": 4,
   "id": "f5edea0a",
   "metadata": {},
   "outputs": [],
   "source": [
    "# install the needed libraries\n",
    "#!pip uninstall tensorflow -y\n",
    "#!pip install tensorflow-macos==2.10.0\n",
    "#!pip install google-cloud\n"
   ]
  },
  {
   "cell_type": "code",
   "execution_count": 47,
   "id": "29a50ab9",
   "metadata": {},
   "outputs": [],
   "source": [
    "#Import the Libraries\n",
    "import os\n",
    "import shutil\n",
    "import numpy as np\n",
    "import matplotlib.pyplot as plt\n",
    "from PIL import Image\n",
    "import tensorflow as tf\n",
    "import pandas as pd\n",
    "import random"
   ]
  },
  {
   "attachments": {},
   "cell_type": "markdown",
   "id": "40e81308",
   "metadata": {},
   "source": [
    "Due to format issues, we decided to drop the photo2 and sketch2 folders (98 images each)"
   ]
  },
  {
   "attachments": {},
   "cell_type": "markdown",
   "id": "09fa0ae9",
   "metadata": {},
   "source": [
    "# Preprocessing Dataset 1"
   ]
  },
  {
   "cell_type": "code",
   "execution_count": 48,
   "id": "e417c93d",
   "metadata": {},
   "outputs": [],
   "source": [
    "# Define photo1 and sketch 1 path names \n",
    "photo_path_1 =os.path.join(os.getcwd(),\"..\",\"data\",\"raw_data\",\"photo\",\"photo1\")\n",
    "sketch_path_1 =os.path.join(os.getcwd(),\"..\",\"data\",\"raw_data\",\"sketch\",\"sketch1\")\n",
    "\n",
    "#Create two lists of the filenames in the corresponding paths and sort them\n",
    "photo_list_1 = os.listdir(photo_path_1)\n",
    "if '.DS_Store' in photo_list_1 : \n",
    "    photo_list_1.remove('.DS_Store')\n",
    "photo_list_1.sort()\n",
    "\n",
    "sketch_list_1 = os.listdir(sketch_path_1)\n",
    "if '.DS_Store' in sketch_list_1 : \n",
    "    sketch_list_1.remove('.DS_Store')\n",
    "sketch_list_1.sort()"
   ]
  },
  {
   "cell_type": "code",
   "execution_count": 49,
   "id": "c95c5221",
   "metadata": {},
   "outputs": [
    {
     "data": {
      "text/plain": [
       "(1529, 1529)"
      ]
     },
     "execution_count": 49,
     "metadata": {},
     "output_type": "execute_result"
    }
   ],
   "source": [
    "#check the lengths of the 2 lists\n",
    "len(photo_list_1), len(sketch_list_1)"
   ]
  },
  {
   "cell_type": "code",
   "execution_count": 50,
   "id": "e60af90b",
   "metadata": {},
   "outputs": [],
   "source": [
    "#resize Photos and store them in the photo_preproc folder\n",
    "\n",
    "dest_folder_photos = os.path.join(os.getcwd(),\"..\",\"data\",\"raw_data\",\"photo\")\n",
    "\n",
    "for i in range(len(photo_list_1)):\n",
    "    photo=Image.open(os.path.join(photo_path_1,photo_list_1[i]))\n",
    "    resized_photo=photo.resize((256,256))\n",
    "    resized_photo.save(os.path.join(os.getcwd(),dest_folder_photos,f\"photo{str(i+1).rjust(4,'0')}.jpg\"))"
   ]
  },
  {
   "cell_type": "code",
   "execution_count": 51,
   "id": "a96730d3",
   "metadata": {},
   "outputs": [],
   "source": [
    "#resize Sketches and store them in the sketch_preproc folder\n",
    "\n",
    "dest_folder_sketches = os.path.join(os.getcwd(),\"..\",\"data\",\"raw_data\",\"sketch\")\n",
    "\n",
    "for j in range(len(sketch_list_1)):\n",
    "    sketch=Image.open(os.path.join(sketch_path_1,sketch_list_1[j]))\n",
    "    resized_sketch=sketch.resize((256,256))\n",
    "    resized_sketch.save(os.path.join(os.getcwd(),dest_folder_sketches,f\"sketch{str(j+1).rjust(4,'0')}.jpg\"))"
   ]
  },
  {
   "attachments": {},
   "cell_type": "markdown",
   "id": "f7f65b1f",
   "metadata": {},
   "source": [
    "# Preprocessing Dataset 2"
   ]
  },
  {
   "cell_type": "code",
   "execution_count": 52,
   "id": "38c91435",
   "metadata": {},
   "outputs": [],
   "source": [
    "# Define photo1 and sketch 1 path names \n",
    "photo_path_2 =os.path.join(os.getcwd(),\"..\",\"data\",\"raw_data\",\"photo\",\"photo2\")\n",
    "sketch_path_2 =os.path.join(os.getcwd(),\"..\",\"data\",\"raw_data\",\"sketch\",\"sketch2\")\n",
    "\n",
    "#Create two lists of the filenames in the corresponding paths and sort them\n",
    "photo_list_2 = os.listdir(photo_path_2)\n",
    "if '.DS_Store' in photo_list_2 : \n",
    "    photo_list_2.remove('.DS_Store')\n",
    "photo_list_2.sort()\n",
    "\n",
    "sketch_list_2 = os.listdir(sketch_path_2)\n",
    "if '.DS_Store' in sketch_list_2 : \n",
    "    sketch_list_2.remove('.DS_Store')\n",
    "sketch_list_2.sort()"
   ]
  },
  {
   "cell_type": "code",
   "execution_count": 53,
   "id": "3dc570bb",
   "metadata": {},
   "outputs": [
    {
     "data": {
      "text/plain": [
       "(477, 477)"
      ]
     },
     "execution_count": 53,
     "metadata": {},
     "output_type": "execute_result"
    }
   ],
   "source": [
    "#check the lengths of the 2 lists\n",
    "len(photo_list_2), len(sketch_list_2)"
   ]
  },
  {
   "cell_type": "code",
   "execution_count": 54,
   "id": "721e1277",
   "metadata": {},
   "outputs": [],
   "source": [
    "#resize Photos and store them in the photo_preproc folder\n",
    "\n",
    "dest_folder_photos = os.path.join(os.getcwd(),\"..\",\"data\",\"raw_data\",\"photo\")\n",
    "\n",
    "for i in range(len(photo_list_2)):\n",
    "    photo=Image.open(os.path.join(photo_path_2,photo_list_2[i]))\n",
    "    resized_photo=photo.resize((256,256))\n",
    "    resized_photo.save(os.path.join(os.getcwd(),dest_folder_photos,f\"photo{str(i+1530).rjust(4,'0')}.jpg\"))"
   ]
  },
  {
   "cell_type": "code",
   "execution_count": 55,
   "id": "63faf435",
   "metadata": {},
   "outputs": [],
   "source": [
    "#resize Sketches and store them in the sketch_preproc folder\n",
    "\n",
    "dest_folder_sketches = os.path.join(os.getcwd(),\"..\",\"data\",\"raw_data\",\"sketch\")\n",
    "\n",
    "for j in range(len(sketch_list_2)):\n",
    "    sketch=Image.open(os.path.join(sketch_path_2,sketch_list_2[j]))\n",
    "    resized_sketch=sketch.resize((256,256))\n",
    "    resized_sketch.save(os.path.join(os.getcwd(),dest_folder_sketches,f\"sketch{str(j+1530).rjust(4,'0')}.jpg\"))"
   ]
  },
  {
   "attachments": {},
   "cell_type": "markdown",
   "id": "8b83c4e0",
   "metadata": {},
   "source": [
    "# Train test split"
   ]
  },
  {
   "cell_type": "code",
   "execution_count": 56,
   "id": "25fa37a8",
   "metadata": {},
   "outputs": [],
   "source": [
    "# USEFUL FUNCTIONS FOR TRAIN TEST SPLIT\n",
    "\n",
    "#Keep only the image names and gets rid of folder names etc\n",
    "def clean_namelist(raw_namelist):\n",
    "#clean the .jpg name list and sort it\n",
    "    clean_name_list = list()\n",
    "    for x in raw_namelist:\n",
    "        if \".jpg\" in x.lower():\n",
    "            clean_name_list.append(x)\n",
    "    clean_name_list.sort()\n",
    "    return clean_name_list\n",
    "\n",
    "#Create a dictionary from two lists of equal length\n",
    "def get_photo_sketch_dict(photo_list,sketch_list):\n",
    "    \"\"\"Takes 2 lists of matching length as input and returns a dictionary with the\n",
    "    first list as key and the second list as value (in corresponding order\"\"\"\n",
    "\n",
    "    if len(photo_list)==len(sketch_list):\n",
    "        return {photo_list[i]:sketch_list[i] for i in range(len(photo_list))}\n",
    "    else :\n",
    "        print(\"The length of the sketch list must match the length of the photo list! Please check the data folders.\")\n",
    "        return None\n",
    "\n",
    "#sample photos from a photo list\n",
    "def get_photo_sample(photo_list, n_samples):\n",
    "\n",
    "    photo_sample = random.sample(photo_list,int(n_samples))\n",
    "    return photo_sample\n",
    "\n",
    "#Sample corresponding sketches from a photo sample and a translation dict\n",
    "def get_sketch_sample (photo_sample,translation_dict):\n",
    "\n",
    "    sketch_sample = [translation_dict[photo] for photo in photo_sample]\n",
    "    return sketch_sample"
   ]
  },
  {
   "cell_type": "code",
   "execution_count": 57,
   "id": "a90784c5",
   "metadata": {},
   "outputs": [
    {
     "data": {
      "text/plain": [
       "(2006, 2006)"
      ]
     },
     "execution_count": 57,
     "metadata": {},
     "output_type": "execute_result"
    }
   ],
   "source": [
    "# Get the clean lists for photos and sketches\n",
    "\n",
    "photo_list_clean=clean_namelist(os.listdir(dest_folder_photos))\n",
    "sketch_list_clean=clean_namelist(os.listdir(dest_folder_sketches))\n",
    "\n",
    "len(photo_list_clean),len(sketch_list_clean)"
   ]
  },
  {
   "cell_type": "code",
   "execution_count": 58,
   "id": "71836247",
   "metadata": {},
   "outputs": [],
   "source": [
    "#create a translation dictionary from the two clean lists\n",
    "translation_dict=get_photo_sketch_dict(photo_list_clean,sketch_list_clean)\n",
    "\n",
    "# sample the 400 photos\n",
    "photo_test=get_photo_sample(photo_list_clean,400)\n",
    "photo_test.sort()\n",
    "#get the sample of corresponding sketches\n",
    "sketch_test=get_sketch_sample(photo_test,translation_dict)\n",
    "sketch_test.sort()"
   ]
  },
  {
   "cell_type": "code",
   "execution_count": 59,
   "id": "01bc8166",
   "metadata": {},
   "outputs": [],
   "source": [
    "#get the train photos and sketches by difference\n",
    "\n",
    "photo_train=[photo for photo in photo_list_clean if photo not in photo_test]\n",
    "photo_train.sort()\n",
    "\n",
    "sketch_train=get_sketch_sample(photo_train,translation_dict)\n",
    "sketch_train.sort()"
   ]
  },
  {
   "cell_type": "code",
   "execution_count": 60,
   "id": "1af6338f",
   "metadata": {},
   "outputs": [
    {
     "name": "stdout",
     "output_type": "stream",
     "text": [
      "Train: 1606 1606\n",
      "Test: 400 400\n"
     ]
    }
   ],
   "source": [
    "#check the length of all the lists\n",
    "print(\"Train:\",len(photo_train),len(sketch_train))\n",
    "print(\"Test:\",len(photo_test),len(sketch_test))"
   ]
  },
  {
   "cell_type": "code",
   "execution_count": 61,
   "id": "cd8cb2aa",
   "metadata": {},
   "outputs": [],
   "source": [
    "#Define the destination folders\n",
    "train_photo_path=os.path.join(os.getcwd(),\"..\",\"data\",\"preproc_data\",\"train\",\"photo\")\n",
    "train_sketch_path=os.path.join(os.getcwd(),\"..\",\"data\",\"preproc_data\",\"train\",\"sketch\")\n",
    "test_photo_path=os.path.join(os.getcwd(),\"..\",\"data\",\"preproc_data\",\"test\",\"photo\")\n",
    "test_sketch_path=os.path.join(os.getcwd(),\"..\",\"data\",\"preproc_data\",\"test\",\"sketch\")"
   ]
  },
  {
   "cell_type": "code",
   "execution_count": 62,
   "id": "6aaabea3",
   "metadata": {},
   "outputs": [],
   "source": [
    "for photo in photo_train:\n",
    "    shutil.move(os.path.join(dest_folder_photos,photo),os.path.join(train_photo_path,photo))\n",
    "    \n",
    "for photo in photo_test:\n",
    "    shutil.move(os.path.join(dest_folder_photos,photo),os.path.join(test_photo_path,photo))\n",
    "    \n",
    "for sketch in sketch_train:\n",
    "    shutil.move(os.path.join(dest_folder_sketches,sketch),os.path.join(train_sketch_path,sketch))   \n",
    "\n",
    "for sketch in sketch_test:\n",
    "    shutil.move(os.path.join(dest_folder_sketches,sketch),os.path.join(test_sketch_path,sketch))  "
   ]
  },
  {
   "cell_type": "code",
   "execution_count": 68,
   "id": "ef6ca643",
   "metadata": {},
   "outputs": [],
   "source": [
    "#To remove the files\n",
    "\n",
    "photo_train=os.listdir(train_photo_path)\n",
    "photo_test=os.listdir(test_photo_path)\n",
    "sketch_train=os.listdir(train_sketch_path)\n",
    "sketch_test=os.listdir(test_sketch_path)\n",
    "\n",
    "for photo in photo_train:\n",
    "    os.remove(os.path.join(train_photo_path,photo))\n",
    "\n",
    "for photo in photo_test:\n",
    "    os.remove(os.path.join(test_photo_path,photo))\n",
    "\n",
    "for sketch in sketch_train:\n",
    "    os.remove(os.path.join(train_sketch_path,sketch))\n",
    "    \n",
    "for sketch in sketch_test:\n",
    "    os.remove(os.path.join(test_sketch_path,sketch))"
   ]
  },
  {
   "cell_type": "code",
   "execution_count": 69,
   "id": "7a9a421f",
   "metadata": {},
   "outputs": [],
   "source": [
    "dest_folder_photos = os.path.join(os.getcwd(),\"..\",\"data\",\"raw_data\",\"photo\")\n",
    "dest_folder_sketches = os.path.join(os.getcwd(),\"..\",\"data\",\"raw_data\",\"sketch\")\n",
    "\n",
    "photo_list_clean=clean_namelist(os.listdir(dest_folder_photos))\n",
    "sketch_list_clean=clean_namelist(os.listdir(dest_folder_sketches))\n",
    "\n",
    "for photo,sketch in zip(photo_list_clean,sketch_list_clean):\n",
    "    os.remove(os.path.join(dest_folder_photos,photo))\n",
    "    os.remove(os.path.join(dest_folder_sketches,sketch))\n",
    "\n",
    "    "
   ]
  },
  {
   "cell_type": "code",
   "execution_count": 45,
   "id": "0457c935",
   "metadata": {},
   "outputs": [
    {
     "data": {
      "text/plain": [
       "401"
      ]
     },
     "execution_count": 45,
     "metadata": {},
     "output_type": "execute_result"
    }
   ],
   "source": [
    "round(2006*0.2)"
   ]
  }
 ],
 "metadata": {
  "kernelspec": {
   "display_name": "Python 3.10.6 64-bit ('FF2S')",
   "language": "python",
   "name": "python3"
  },
  "language_info": {
   "codemirror_mode": {
    "name": "ipython",
    "version": 3
   },
   "file_extension": ".py",
   "mimetype": "text/x-python",
   "name": "python",
   "nbconvert_exporter": "python",
   "pygments_lexer": "ipython3",
   "version": "3.10.6"
  },
  "toc": {
   "base_numbering": 1,
   "nav_menu": {},
   "number_sections": true,
   "sideBar": true,
   "skip_h1_title": false,
   "title_cell": "Table of Contents",
   "title_sidebar": "Contents",
   "toc_cell": false,
   "toc_position": {},
   "toc_section_display": true,
   "toc_window_display": false
  },
  "vscode": {
   "interpreter": {
    "hash": "631856bff0cd3efdd261b207f5882deb0b450fdc30df151790d76f66e514dd8b"
   }
  }
 },
 "nbformat": 4,
 "nbformat_minor": 5
}
