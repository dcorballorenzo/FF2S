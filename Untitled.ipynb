{
 "cells": [
  {
   "cell_type": "code",
   "execution_count": null,
   "id": "9aaad53e",
   "metadata": {},
   "outputs": [],
   "source": [
    "import numpy as np\n",
    "import cv2\n",
    "\n",
    "path = \"/Users/alicepannequin/code/dataset/photo/photo2/image0079.jpg\"\n",
    "image = cv2.imread(path)\n",
    "y=0\n",
    "x=0\n",
    "h=220\n",
    "crop = image[y:y+h, x:x+h]\n",
    "cv2.imshow('image', crop)\n",
    "cv2.waitKey(0) "
   ]
  },
  {
   "cell_type": "code",
   "execution_count": null,
   "id": "e15cf6fd",
   "metadata": {},
   "outputs": [],
   "source": [
    "import cv2\n",
    "  \n",
    "img = cv2.imread(\"/Users/alicepannequin/code/dataset/photo/photo2/image0079.jpg\")\n",
    "print(type(img))\n",
    "  \n",
    "# Shape of the image\n",
    "print(\"Shape of the image\", img.shape)\n",
    "  \n",
    "# [rows, columns]\n",
    "crop = img[50:180, 100:300]  \n",
    "  \n",
    "cv2.imshow('original', img)\n",
    "cv2.imshow('cropped', crop)\n",
    "cv2.waitKey(0)\n",
    "cv2.destroyAllWindows()"
   ]
  },
  {
   "cell_type": "code",
   "execution_count": null,
   "id": "f23c19ef",
   "metadata": {},
   "outputs": [],
   "source": [
    "X = []\n",
    "for i in range(N):\n",
    "    im = imread('image_i')\n",
    "    X.append(im[0:100,0:100].copy())"
   ]
  }
 ],
 "metadata": {
  "kernelspec": {
   "display_name": "Python 3 (ipykernel)",
   "language": "python",
   "name": "python3"
  },
  "language_info": {
   "codemirror_mode": {
    "name": "ipython",
    "version": 3
   },
   "file_extension": ".py",
   "mimetype": "text/x-python",
   "name": "python",
   "nbconvert_exporter": "python",
   "pygments_lexer": "ipython3",
   "version": "3.10.6"
  },
  "toc": {
   "base_numbering": 1,
   "nav_menu": {},
   "number_sections": true,
   "sideBar": true,
   "skip_h1_title": false,
   "title_cell": "Table of Contents",
   "title_sidebar": "Contents",
   "toc_cell": false,
   "toc_position": {},
   "toc_section_display": true,
   "toc_window_display": false
  }
 },
 "nbformat": 4,
 "nbformat_minor": 5
}
